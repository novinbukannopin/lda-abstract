{
 "cells": [
  {
   "cell_type": "code",
   "execution_count": 1,
   "outputs": [],
   "source": [
    "import requests\n",
    "import pandas as pd\n",
    "from bs4 import BeautifulSoup"
   ],
   "metadata": {
    "collapsed": false,
    "ExecuteTime": {
     "end_time": "2023-11-02T16:47:28.817811300Z",
     "start_time": "2023-11-02T16:47:27.422561Z"
    }
   },
   "id": "1451d77bae5cc5cb"
  },
  {
   "cell_type": "code",
   "execution_count": 55,
   "outputs": [],
   "source": [
    "data = []\n",
    "url1 = \"http://digilib.uinsa.ac.id/view/subjects/HPE.html\""
   ],
   "metadata": {
    "collapsed": false,
    "ExecuteTime": {
     "end_time": "2023-11-02T16:54:58.621431100Z",
     "start_time": "2023-11-02T16:54:58.600930400Z"
    }
   },
   "id": "cbdd61cfd888677b"
  },
  {
   "cell_type": "code",
   "execution_count": 56,
   "outputs": [],
   "source": [
    "response = requests.get(url1)"
   ],
   "metadata": {
    "collapsed": false,
    "ExecuteTime": {
     "end_time": "2023-11-02T16:55:03.635116400Z",
     "start_time": "2023-11-02T16:55:02.614026900Z"
    }
   },
   "id": "70466d581a7953da"
  },
  {
   "cell_type": "code",
   "execution_count": 57,
   "outputs": [],
   "source": [
    "if response.status_code == 200:\n",
    "    soup = BeautifulSoup(response.text, 'html.parser')\n",
    "    headlines = soup.find_all(\"p\")\n",
    "\n",
    "    for headline in headlines:\n",
    "        link = headline.a[\"href\"]\n",
    "        response_journal = requests.get(link)\n",
    "        if response_journal.status_code == 200:\n",
    "            soup_2 = BeautifulSoup(response_journal.text, 'html.parser')\n",
    "            title = soup_2.find(\"div\", class_=\"ep_tm_page_content\")\n",
    "            text_title = title.find(\"h1\", class_=\"ep_tm_pagetitle\").text\n",
    "            abstract = soup_2.find(\"p\", class_=\"ep_field_para\").text\n",
    "            data.append({\n",
    "                'document': abstract,\n",
    "                'partition': 'train',\n",
    "                'label': \"hukum perdata islam\"\n",
    "            })"
   ],
   "metadata": {
    "collapsed": false,
    "ExecuteTime": {
     "end_time": "2023-11-02T16:55:37.408360800Z",
     "start_time": "2023-11-02T16:55:09.721740200Z"
    }
   },
   "id": "e6b95f7695e9353b"
  },
  {
   "cell_type": "code",
   "execution_count": 58,
   "outputs": [],
   "source": [
    "df = pd.DataFrame(data)"
   ],
   "metadata": {
    "collapsed": false,
    "ExecuteTime": {
     "end_time": "2023-11-02T16:55:41.075352700Z",
     "start_time": "2023-11-02T16:55:41.069295300Z"
    }
   },
   "id": "a44b7b053888f415"
  },
  {
   "cell_type": "code",
   "execution_count": 59,
   "outputs": [
    {
     "name": "stdout",
     "output_type": "stream",
     "text": [
      "                                              document partition  \\\n",
      "0    Skripsi ini adalah hasil penelitian lapangan (...     train   \n",
      "1    Skripsi yang ditulis dengan judul “Implementas...     train   \n",
      "2    Jenis penelitian ini adalah penelitian lapanga...     train   \n",
      "3    Skripsi ini adalah hasil penilitian lapangan (...     train   \n",
      "4    Skripsi ini adalah penelitian lapangan dengan ...     train   \n",
      "..                                                 ...       ...   \n",
      "169  Skripsi ini merupakan penelitian kepustakaan (...     train   \n",
      "170  Skripsi ini adalah hasil dari penelitian pusta...     train   \n",
      "171  Bagaimana cara menyelesaikan wanprestasi kerja...     train   \n",
      "172  Skripsi ini merupakan hasil penelitian dengan ...     train   \n",
      "173  Skripsi ini berjudul “Analisis Hukum Islam ter...     train   \n",
      "\n",
      "                   label  \n",
      "0    hukum perdata islam  \n",
      "1    hukum perdata islam  \n",
      "2    hukum perdata islam  \n",
      "3    hukum perdata islam  \n",
      "4    hukum perdata islam  \n",
      "..                   ...  \n",
      "169  hukum perdata islam  \n",
      "170  hukum perdata islam  \n",
      "171  hukum perdata islam  \n",
      "172  hukum perdata islam  \n",
      "173  hukum perdata islam  \n",
      "\n",
      "[174 rows x 3 columns]\n"
     ]
    }
   ],
   "source": [
    "print(df)"
   ],
   "metadata": {
    "collapsed": false,
    "ExecuteTime": {
     "end_time": "2023-11-02T16:55:43.205297400Z",
     "start_time": "2023-11-02T16:55:43.183519100Z"
    }
   },
   "id": "106945f036bc89cf"
  },
  {
   "cell_type": "code",
   "execution_count": 60,
   "outputs": [],
   "source": [
    "df.to_csv(path_or_buf=\"data\", sep=\"\\t\", index=False)"
   ],
   "metadata": {
    "collapsed": false,
    "ExecuteTime": {
     "end_time": "2023-11-02T16:55:47.296828500Z",
     "start_time": "2023-11-02T16:55:47.260473900Z"
    }
   },
   "id": "f46e47554dba0e5d"
  }
 ],
 "metadata": {
  "kernelspec": {
   "display_name": "Python 3",
   "language": "python",
   "name": "python3"
  },
  "language_info": {
   "codemirror_mode": {
    "name": "ipython",
    "version": 2
   },
   "file_extension": ".py",
   "mimetype": "text/x-python",
   "name": "python",
   "nbconvert_exporter": "python",
   "pygments_lexer": "ipython2",
   "version": "2.7.6"
  }
 },
 "nbformat": 4,
 "nbformat_minor": 5
}
