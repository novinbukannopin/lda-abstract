{
 "cells": [
  {
   "cell_type": "code",
   "execution_count": 4,
   "outputs": [
    {
     "name": "stderr",
     "output_type": "stream",
     "text": [
      "[nltk_data] Downloading package punkt to\n",
      "[nltk_data]     C:\\Users\\novin\\AppData\\Roaming\\nltk_data...\n",
      "[nltk_data]   Package punkt is already up-to-date!\n"
     ]
    },
    {
     "data": {
      "text/plain": "True"
     },
     "execution_count": 4,
     "metadata": {},
     "output_type": "execute_result"
    }
   ],
   "source": [
    "import nltk\n",
    "from gensim.models import Word2Vec\n",
    "from gensim.models.doc2vec import Doc2Vec, TaggedDocument\n",
    "from nltk.tokenize import word_tokenize\n",
    "import pandas as pd\n",
    "from Sastrawi.Stemmer.StemmerFactory import StemmerFactory\n",
    "from sklearn.feature_extraction.text import CountVectorizer\n",
    "from sklearn.decomposition import LatentDirichletAllocation\n",
    "\n",
    "nltk.download('punkt')"
   ],
   "metadata": {
    "collapsed": false,
    "ExecuteTime": {
     "end_time": "2023-11-06T11:25:44.989440Z",
     "start_time": "2023-11-06T11:25:44.982951Z"
    }
   },
   "id": "c63027f6afa0bb7b"
  },
  {
   "cell_type": "code",
   "execution_count": 19,
   "outputs": [],
   "source": [
    "abstract_a = pd.read_csv(\"./data/perdata.csv\", index_col=1)\n",
    "abstract_b = pd.read_csv(\"./data/pidana.csv\")\n",
    "\n",
    "abstracts_prodi_a = []\n",
    "abstracts_prodi_b = []\n",
    "\n",
    "for index, row in abstract_a.iterrows():\n",
    "    abstract = ' '.join([str(row['document'])])\n",
    "    abstracts_prodi_a.append(abstract)\n",
    "\n",
    "for index, row in abstract_b.iterrows():\n",
    "    abstract = ' '.join([str(row['document'])])\n",
    "    abstracts_prodi_b.append(abstract)"
   ],
   "metadata": {
    "collapsed": false,
    "ExecuteTime": {
     "end_time": "2023-11-06T11:36:13.394616100Z",
     "start_time": "2023-11-06T11:36:13.335833200Z"
    }
   },
   "id": "4973d98a388080b9"
  },
  {
   "cell_type": "code",
   "execution_count": 20,
   "outputs": [],
   "source": [
    "stemmer = StemmerFactory().create_stemmer()"
   ],
   "metadata": {
    "collapsed": false,
    "ExecuteTime": {
     "end_time": "2023-11-06T11:36:15.649908200Z",
     "start_time": "2023-11-06T11:36:15.636896300Z"
    }
   },
   "id": "7a3c3d9a38fbba0c"
  },
  {
   "cell_type": "code",
   "execution_count": 22,
   "outputs": [],
   "source": [
    "def tokenize_and_stem(text):\n",
    "    words = word_tokenize(text)\n",
    "    stemmed_words = [stemmer.stem(word) for word in words]\n",
    "    return stemmed_words"
   ],
   "metadata": {
    "collapsed": false,
    "ExecuteTime": {
     "end_time": "2023-11-06T11:36:18.620025700Z",
     "start_time": "2023-11-06T11:36:18.613002800Z"
    }
   },
   "id": "3cc08c87004c3e7e"
  },
  {
   "cell_type": "code",
   "execution_count": 17,
   "outputs": [],
   "source": [
    "tokens_prodi_a = [tokenize_and_stem(abstract) for abstract in abstracts_prodi_a]\n",
    "tokens_prodi_b = [tokenize_and_stem(abstract) for abstract in abstracts_prodi_b]"
   ],
   "metadata": {
    "collapsed": false,
    "ExecuteTime": {
     "end_time": "2023-11-06T11:33:40.773248500Z",
     "start_time": "2023-11-06T11:28:20.798670900Z"
    }
   },
   "id": "c20e4fa089eee631"
  },
  {
   "cell_type": "code",
   "execution_count": 24,
   "outputs": [
    {
     "name": "stdout",
     "output_type": "stream",
     "text": [
      "Topic #0: di hukum untuk penelitian islam tidak pasar dari desa anak\n",
      "Topic #1: di penelitian dari untuk perempuan hasil hukum analisis bagaimana kepada\n",
      "Topic #2: istri suami penelitian kewajiban hukum untuk tentang tidak di islam\n",
      "Topic #3: di jual beli penelitian tidak praktik untuk islam surabaya hukum\n",
      "Topic #4: hukum anak penelitian tahun data undang dari nomor perkawinan tentang\n",
      "Topic #5: nikah wali penelitian di perkawinan agama data pengadilan hukum dari\n",
      "Topic #6: di pada hukum perjanjian islam penelitian akad tidak untuk menggunakan\n",
      "Topic #7: hukum tidak di penelitian islam perkawinan undang untuk tentang atau\n",
      "Topic #8: penelitian di desa kecamatan tidak untuk sidoarjo pihak ibu hasil\n",
      "Topic #9: hakim putusan pa pdt perkara nomor pengadilan untuk agama pertimbangan\n"
     ]
    }
   ],
   "source": [
    "tf_vectorizer = CountVectorizer(max_df=0.95, min_df=2, stop_words='english')\n",
    "tf = tf_vectorizer.fit_transform(abstracts_prodi_a)\n",
    "\n",
    "lda = LatentDirichletAllocation(n_components=10, random_state=0)\n",
    "lda.fit(tf)\n",
    "\n",
    "def print_top_words(model, feature_names, n_top_words):\n",
    "    for topic_idx, topic in enumerate(model.components_):\n",
    "        message = \"Topic #%d: \" % topic_idx\n",
    "        message += \" \".join([feature_names[i]\n",
    "                             for i in topic.argsort()[:-n_top_words - 1:-1]])\n",
    "        print(message)\n",
    "\n",
    "print_top_words(lda, tf_vectorizer.get_feature_names_out(), n_top_words=10)"
   ],
   "metadata": {
    "collapsed": false,
    "ExecuteTime": {
     "end_time": "2023-11-06T11:36:49.858355Z",
     "start_time": "2023-11-06T11:36:48.632661200Z"
    }
   },
   "id": "c11d726bf98848a6"
  },
  {
   "cell_type": "code",
   "execution_count": 30,
   "outputs": [
    {
     "name": "stdout",
     "output_type": "stream",
     "text": [
      "Kesamaan antara abstrak Prodi A dan Prodi B: 0.99935174\n"
     ]
    }
   ],
   "source": [
    "\n",
    "model_prodi_a = Word2Vec(tokens_prodi_a, min_count=1)\n",
    "model_prodi_b = Word2Vec(tokens_prodi_b, min_count=1)\n",
    "\n",
    "\n",
    "similarity = model_prodi_a.wv.n_similarity(tokens_prodi_a[0], tokens_prodi_b[0])\n",
    "print(\"Kesamaan antara abstrak Prodi A dan Prodi B:\", similarity)\n"
   ],
   "metadata": {
    "collapsed": false,
    "ExecuteTime": {
     "end_time": "2023-11-02T17:17:16.207738300Z",
     "start_time": "2023-11-02T17:17:15.690508300Z"
    }
   },
   "id": "7c09446642178bc7"
  },
  {
   "cell_type": "code",
   "execution_count": 31,
   "outputs": [
    {
     "name": "stdout",
     "output_type": "stream",
     "text": [
      "Matriks Kesamaan:\n",
      "[[1.         0.04829927 0.0513468  ... 0.06355455 0.07393398 0.05388955]\n",
      " [0.04829927 1.         0.0468768  ... 0.07890107 0.09665612 0.11880174]\n",
      " [0.0513468  0.0468768  1.         ... 0.06904285 0.06141292 0.05744038]\n",
      " ...\n",
      " [0.06355455 0.07890107 0.06904285 ... 1.         0.17798232 0.18330189]\n",
      " [0.07393398 0.09665612 0.06141292 ... 0.17798232 1.         0.21488878]\n",
      " [0.05388955 0.11880174 0.05744038 ... 0.18330189 0.21488878 1.        ]]\n"
     ]
    }
   ],
   "source": [
    "from sklearn.feature_extraction.text import TfidfVectorizer\n",
    "from sklearn.metrics.pairwise import cosine_similarity\n",
    "\n",
    "\n",
    "all_abstracts = abstracts_prodi_a + abstracts_prodi_b\n",
    "\n",
    "stemmer = StemmerFactory().create_stemmer()\n",
    "\n",
    "\n",
    "def tokenize_and_stem(text):\n",
    "    words = text.split()  \n",
    "    stemmed_words = [stemmer.stem(word) for word in words]\n",
    "    return \" \".join(stemmed_words)\n",
    "\n",
    "\n",
    "preprocessed_abstracts = [tokenize_and_stem(abstract) for abstract in all_abstracts]\n",
    "\n",
    "tfidf_vectorizer = TfidfVectorizer()\n",
    "tfidf_matrix = tfidf_vectorizer.fit_transform(all_abstracts)\n",
    "\n",
    "similarity_matrix = cosine_similarity(tfidf_matrix, tfidf_matrix)\n",
    "\n",
    "print(\"Matriks Kesamaan:\")\n",
    "print(similarity_matrix)\n"
   ],
   "metadata": {
    "collapsed": false,
    "ExecuteTime": {
     "end_time": "2023-11-02T17:28:15.811538700Z",
     "start_time": "2023-11-02T17:21:13.742921300Z"
    }
   },
   "id": "d93468756330095b"
  },
  {
   "cell_type": "code",
   "execution_count": null,
   "outputs": [],
   "source": [
    "from textblob import TextBlob\n",
    "\n",
    "\n",
    "\n",
    "stemmer = StemmerFactory().create_stemmer()\n",
    "\n",
    "def tokenize_and_stem(text):\n",
    "    words = text.split()  \n",
    "    stemmed_words = [stemmer.stem(word) for word in words]\n",
    "    return \" \".join(stemmed_words)\n",
    "\n",
    "stemmed_abstracts_prodi_a = [tokenize_and_stem(abstract) for abstract in abstracts_prodi_a]\n",
    "stemmed_abstracts_prodi_b = [tokenize_and_stem(abstract) for abstract in abstracts_prodi_b]\n",
    "\n",
    "\n",
    "sentiments_prodi_a = [TextBlob(abstract).sentiment.polarity for abstract in stemmed_abstracts_prodi_a]\n",
    "\n",
    "sentiments_prodi_b = [TextBlob(abstract).sentiment.polarity for abstract in stemmed_abstracts_prodi_b]\n",
    "\n",
    "print(\"Sentimen rata-rata Prodi A:\", sum(sentiments_prodi_a) / len(sentiments_prodi_a))\n",
    "print(\"Sentimen rata-rata Prodi B:\", sum(sentiments_prodi_b) / len(sentiments_prodi_b))\n"
   ],
   "metadata": {
    "collapsed": false,
    "is_executing": true,
    "ExecuteTime": {
     "start_time": "2023-11-02T17:47:12.118827900Z"
    }
   },
   "id": "47cfc9b10564f307"
  }
 ],
 "metadata": {
  "kernelspec": {
   "display_name": "Python 3",
   "language": "python",
   "name": "python3"
  },
  "language_info": {
   "codemirror_mode": {
    "name": "ipython",
    "version": 2
   },
   "file_extension": ".py",
   "mimetype": "text/x-python",
   "name": "python",
   "nbconvert_exporter": "python",
   "pygments_lexer": "ipython2",
   "version": "2.7.6"
  }
 },
 "nbformat": 4,
 "nbformat_minor": 5
}
